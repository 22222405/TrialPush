{
 "cells": [
  {
   "cell_type": "code",
   "execution_count": 53,
   "id": "14dcbb2e-c138-4963-9d56-ee446ec96ec8",
   "metadata": {},
   "outputs": [],
   "source": [
    "from prophet import Prophet\n",
    "import pandas as pd\n",
    "from prophet.plot import plot_plotly"
   ]
  },
  {
   "cell_type": "code",
   "execution_count": 81,
   "id": "cbd7c314-133b-4fbe-9099-2cf9deb75930",
   "metadata": {},
   "outputs": [],
   "source": [
    "df = pd.read_csv('employeeData.csv')"
   ]
  },
  {
   "cell_type": "code",
   "execution_count": 83,
   "id": "9aa8fdb7-3055-44de-90ad-4aae4b592380",
   "metadata": {},
   "outputs": [
    {
     "name": "stdout",
     "output_type": "stream",
     "text": [
      "Printing the names of the columns\n",
      "Index(['Age', 'Attrition', 'BusinessTravel', 'DailyRate', 'Department',\n",
      "       'DistanceFromHome', 'Education', 'EducationField', 'EmployeeCount',\n",
      "       'EmployeeNumber', 'EnvironmentSatisfaction', 'Gender', 'HourlyRate',\n",
      "       'JobInvolvement', 'JobLevel', 'JobRole', 'JobSatisfaction',\n",
      "       'MaritalStatus', 'MonthlyIncome', 'MonthlyRate', 'NumCompaniesWorked',\n",
      "       'Over18', 'OverTime', 'PercentSalaryHike', 'PerformanceRating',\n",
      "       'RelationshipSatisfaction', 'StandardHours', 'StockOptionLevel',\n",
      "       'TotalWorkingYears', 'TrainingTimesLastYear', 'WorkLifeBalance',\n",
      "       'YearsAtCompany', 'YearsInCurrentRole', 'YearsSinceLastPromotion',\n",
      "       'YearsWithCurrManager'],\n",
      "      dtype='object')\n"
     ]
    }
   ],
   "source": [
    "print('Printing the names of the columns')\n",
    "print(df.columns)"
   ]
  },
  {
   "cell_type": "code",
   "execution_count": 85,
   "id": "7c1b234d-f520-4afb-b974-504a56c46310",
   "metadata": {},
   "outputs": [
    {
     "name": "stdout",
     "output_type": "stream",
     "text": [
      "Printing the first five rows\n",
      "   Age Attrition     BusinessTravel  DailyRate              Department  \\\n",
      "0   41       Yes      Travel_Rarely       1102                   Sales   \n",
      "1   49        No  Travel_Frequently        279  Research & Development   \n",
      "2   37       Yes      Travel_Rarely       1373  Research & Development   \n",
      "3   33        No  Travel_Frequently       1392  Research & Development   \n",
      "4   27        No      Travel_Rarely        591  Research & Development   \n",
      "\n",
      "   DistanceFromHome  Education EducationField  EmployeeCount  EmployeeNumber  \\\n",
      "0                 1          2  Life Sciences              1               1   \n",
      "1                 8          1  Life Sciences              1               2   \n",
      "2                 2          2          Other              1               4   \n",
      "3                 3          4  Life Sciences              1               5   \n",
      "4                 2          1        Medical              1               7   \n",
      "\n",
      "   ...  RelationshipSatisfaction StandardHours  StockOptionLevel  \\\n",
      "0  ...                         1            80                 0   \n",
      "1  ...                         4            80                 1   \n",
      "2  ...                         2            80                 0   \n",
      "3  ...                         3            80                 0   \n",
      "4  ...                         4            80                 1   \n",
      "\n",
      "   TotalWorkingYears  TrainingTimesLastYear WorkLifeBalance  YearsAtCompany  \\\n",
      "0                  8                      0               1               6   \n",
      "1                 10                      3               3              10   \n",
      "2                  7                      3               3               0   \n",
      "3                  8                      3               3               8   \n",
      "4                  6                      3               3               2   \n",
      "\n",
      "  YearsInCurrentRole  YearsSinceLastPromotion  YearsWithCurrManager  \n",
      "0                  4                        0                     5  \n",
      "1                  7                        1                     7  \n",
      "2                  0                        0                     0  \n",
      "3                  7                        3                     0  \n",
      "4                  2                        2                     2  \n",
      "\n",
      "[5 rows x 35 columns]\n"
     ]
    }
   ],
   "source": [
    "print('Printing the first five rows')\n",
    "print(df.head())"
   ]
  },
  {
   "cell_type": "code",
   "execution_count": 87,
   "id": "4f9d3b88-b0e0-4285-9f68-b854b739fb46",
   "metadata": {},
   "outputs": [
    {
     "name": "stdout",
     "output_type": "stream",
     "text": [
      "Printing the names of the columns\n",
      "Index(['Age', 'Attrition', 'BusinessTravel', 'DailyRate', 'Department',\n",
      "       'DistanceFromHome', 'Education', 'EducationField', 'EmployeeCount',\n",
      "       'EmployeeNumber', 'EnvironmentSatisfaction', 'Gender', 'HourlyRate',\n",
      "       'JobInvolvement', 'JobLevel', 'JobRole', 'JobSatisfaction',\n",
      "       'MaritalStatus', 'MonthlyIncome', 'MonthlyRate', 'NumCompaniesWorked',\n",
      "       'Over18', 'OverTime', 'PercentSalaryHike', 'PerformanceRating',\n",
      "       'RelationshipSatisfaction', 'StandardHours', 'StockOptionLevel',\n",
      "       'TotalWorkingYears', 'TrainingTimesLastYear', 'WorkLifeBalance',\n",
      "       'YearsAtCompany', 'YearsInCurrentRole', 'YearsSinceLastPromotion',\n",
      "       'YearsWithCurrManager'],\n",
      "      dtype='object')\n"
     ]
    }
   ],
   "source": [
    "print('Printing the names of the columns')\n",
    "print(df.columns)"
   ]
  },
  {
   "cell_type": "code",
   "execution_count": 98,
   "id": "d03fd810-efe6-40a1-9fe1-872b5d70840e",
   "metadata": {},
   "outputs": [
    {
     "name": "stdout",
     "output_type": "stream",
     "text": [
      "(1470, 35)\n"
     ]
    }
   ],
   "source": [
    "print(df.shape)"
   ]
  },
  {
   "cell_type": "code",
   "execution_count": 89,
   "id": "fab3ae69-ead8-46d3-8657-e96ec17ef124",
   "metadata": {},
   "outputs": [
    {
     "name": "stdout",
     "output_type": "stream",
     "text": [
      "Printing the number of missing values\n",
      "Age                         0\n",
      "Attrition                   0\n",
      "BusinessTravel              0\n",
      "DailyRate                   0\n",
      "Department                  0\n",
      "DistanceFromHome            0\n",
      "Education                   0\n",
      "EducationField              0\n",
      "EmployeeCount               0\n",
      "EmployeeNumber              0\n",
      "EnvironmentSatisfaction     0\n",
      "Gender                      0\n",
      "HourlyRate                  0\n",
      "JobInvolvement              0\n",
      "JobLevel                    0\n",
      "JobRole                     0\n",
      "JobSatisfaction             0\n",
      "MaritalStatus               0\n",
      "MonthlyIncome               0\n",
      "MonthlyRate                 0\n",
      "NumCompaniesWorked          0\n",
      "Over18                      0\n",
      "OverTime                    0\n",
      "PercentSalaryHike           0\n",
      "PerformanceRating           0\n",
      "RelationshipSatisfaction    0\n",
      "StandardHours               0\n",
      "StockOptionLevel            0\n",
      "TotalWorkingYears           0\n",
      "TrainingTimesLastYear       0\n",
      "WorkLifeBalance             0\n",
      "YearsAtCompany              0\n",
      "YearsInCurrentRole          0\n",
      "YearsSinceLastPromotion     0\n",
      "YearsWithCurrManager        0\n",
      "dtype: int64\n"
     ]
    }
   ],
   "source": [
    "missing_data = df.isnull().sum()\n",
    "print('Printing the number of missing values')\n",
    "print(missing_data)"
   ]
  },
  {
   "cell_type": "code",
   "execution_count": null,
   "id": "532ed60a-844d-4c9a-a91e-fef774c0a5e8",
   "metadata": {},
   "outputs": [],
   "source": [
    "data.columns=['ds','y']\n",
    "model=Prophet()\n",
    "model.fit(data)"
   ]
  },
  {
   "cell_type": "code",
   "execution_count": null,
   "id": "19a2f537-e229-48d4-bf3c-2b19abe455d5",
   "metadata": {},
   "outputs": [],
   "source": [
    "future=model.make_future_dataframe(periods=30)\n",
    "forecast = model.predict(future)"
   ]
  },
  {
   "cell_type": "code",
   "execution_count": null,
   "id": "c937ef94-5a59-4718-a716-a3f844bcdf14",
   "metadata": {},
   "outputs": [],
   "source": [
    "fig = model.plot(forecast)\n",
    "plt.title('Savings Forecast using Prophet')\n",
    "plt.xlabel('Date')\n",
    "plt.ylabel('Close')\n",
    "plt.show()"
   ]
  },
  {
   "cell_type": "code",
   "execution_count": null,
   "id": "11cd7489-6a7a-45f4-a750-6cff2ef7977c",
   "metadata": {},
   "outputs": [],
   "source": [
    "fig2 = model.plot_components(forecast)\n",
    "plt.show()"
   ]
  },
  {
   "cell_type": "markdown",
   "id": "ac16dce8-c2b5-4714-929f-b9230ca9823a",
   "metadata": {},
   "source": [
    "Sentiment Analysis\n",
    "\n",
    "The problem involves analyzing textual feedback from employees regarding their views on the two-pot system. The goal is to classify this feedback into three categories:\n",
    "Positive: Feedback that expresses a favorable opinion.\n",
    "Negative: Feedback that shows dissatisfaction or criticism.\n",
    "Neutral: Feedback that neither praises nor criticizes the systemData Collection and Preprocessing\n",
    "Before performing sentiment analysis, the feedback data must be cleaned and preprocessed.\n",
    "Preprocessing Steps:  \n",
    "\n",
    "Text Cleaning: Remove irrelevant information from the feedback like special characters, numbers, or symbols (e.g., @, #, punctuation).\n",
    "Lowercasing: Convert all text to lowercase to ensure uniformity.\n",
    "Stopword Removal: Commonly used words like \"the\", \"is\", \"at\", which do not provide much insight into sentiment, are removed.\n",
    "Tokenization: Splitting the feedback into individual words or tokens for easier analysis.\n",
    "Lemmatazation/Stemming: Reducing words to their base or root\n",
    "This preprocessing step makes the text clean and structured for analysis.\n",
    "\n",
    "Conclusion:\n",
    "Using NLP techniques like sentiment analysis provides actionable insights into how employees perceive the new system. By categorizing feedback as positive, negative, or neutral, businesses can improve processes, address concerns, and promote the benefits of changes like the two-pot system."
   ]
  }
 ],
 "metadata": {
  "kernelspec": {
   "display_name": "Python 3 (ipykernel)",
   "language": "python",
   "name": "python3"
  },
  "language_info": {
   "codemirror_mode": {
    "name": "ipython",
    "version": 3
   },
   "file_extension": ".py",
   "mimetype": "text/x-python",
   "name": "python",
   "nbconvert_exporter": "python",
   "pygments_lexer": "ipython3",
   "version": "3.12.4"
  }
 },
 "nbformat": 4,
 "nbformat_minor": 5
}
